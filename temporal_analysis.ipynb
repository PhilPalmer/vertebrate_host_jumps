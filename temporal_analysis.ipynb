{
 "cells": [
  {
   "attachments": {},
   "cell_type": "markdown",
   "metadata": {},
   "source": [
    "# Temporal Analysis of Viral Zoonoses\n",
    "This Jupyter Notebook builds upon the research conducted by [Tan et al. 2024](https://www.nature.com/articles/s41559-024-02353-4), which, as shown in the image below, uses NCBI Virus data and ancestral sequence reconstruction to identify 216 zoonotic events. Our **aim is to investigate trends in viral zoonoses over time**. Therefore, I incorporated temporal data from NCBI, which was not originally included in the study.\n",
    "\n",
    "The analysis consists of the following steps:\n",
    "\n",
    "1. **Zoonotic Events:** Determining the number of zoonotic events per year\n",
    "   - **Data Preparation**: Load and preprocess data to include only zoonotic events from Supplementary Table 3.\n",
    "   - **Phylogenetic Analysis**: Identify the closest leaves to host jump nodes using phylogenetic trees provided in the original study.\n",
    "   - **Metadata Extraction**: Fetch sequence records from NCBI to obtain collection dates for these closest leaves.\n",
    "   - **Temporal Data Integration**: Use these dates as proxies to estimate the timing of zoonotic events, determining the year of each host jump.\n",
    "\n",
    "2. **Sequencing Effort:** Determining the sequencing effort for each year\n",
    "   - **Data Preparation**: Load and preprocess data for the ~60K viral genomes used in the host hump analysis from Supplementary Table 1.\n",
    "   - **Data Sampling**: Randomly sample 1K sequences from the available dataset to be nice to the NCBI servers.\n",
    "   - **Year Extraction**: Determine the collection year for each sampled sequence by parsing sequence metadata retrieved from NCBI.\n",
    "\n",
    "3. **Adjustment:** Adjusting for the sequencing effort and plotting the results\n",
    "   - **Calculate Effort**: Compute the annual sequencing effort based on the number of sequences recorded each year.\n",
    "   - **Adjust Events**: Adjust the number of zoonotic events per year by dividing by the sequencing effort.\n",
    "   - **Visualisation**: Plot the raw number of zoonotic events, the sequencing effort, and the adjusted number of events to visualise trends over time.\n",
    "\n",
    "<!-- <img src=\"https://media.springernature.com/full/springer-static/image/art%3A10.1038%2Fs41559-024-02353-4/MediaObjects/41559_2024_2353_Fig3_HTML.png?as=webp\" width=\"800\" > -->\n",
    "<img src=\"data/example_host_jump.png\" width=\"600\" >\n",
    "\n",
    "## Limitations\n",
    "While using the closest leaf in the phylogenetic tree with a collection date provides a practical approach to estimate the timing of zoonotic events, the accuracy of this method could be improved by incorporating data from multiple leaves and applying molecular clock methods to estimate divergence times more precisely.\n",
    "\n",
    "## Conclusion\n",
    "Although the raw data initially suggest an increase in the number of zoonotic events over time, this trend does not hold after adjusting for sequencing effort. The adjusted data indicate that the apparent increase in zoonotic events is largely due to an increase in sequencing effort rather than a true increase in the number of events."
   ]
  },
  {
   "cell_type": "code",
   "execution_count": 1,
   "metadata": {},
   "outputs": [],
   "source": [
    "from Bio import Phylo, Entrez\n",
    "from operator import itemgetter\n",
    "from plotly.subplots import make_subplots\n",
    "from tqdm import tqdm\n",
    "import logging\n",
    "import os\n",
    "import pandas as pd\n",
    "import plotly.graph_objects as go\n",
    "import re\n",
    "import time\n",
    "\n",
    "\n",
    "# Configure logging\n",
    "logging.basicConfig(level=logging.INFO, format='%(asctime)s - %(name)s - %(levelname)s - %(message)s')\n",
    "logger = logging.getLogger(__name__)\n",
    "\n",
    "# Define constants\n",
    "Entrez.email = \"\" # Set your email here\n",
    "\n",
    "###########################\n",
    "# Number of zoonotic events\n",
    "###########################\n",
    "\n",
    "def get_tree_path(tree_dir, virus):\n",
    "    return f\"{tree_dir}/{virus}.labelled.tree\"\n",
    "\n",
    "def read_tree(tree_path):\n",
    "    try:\n",
    "        return Phylo.read(tree_path, \"newick\")\n",
    "    except Exception as e:\n",
    "        logger.error(f\"Error reading tree from {tree_path}: {e}\")\n",
    "        return None\n",
    "\n",
    "def find_closest_leaves(tree, node_name, n=10):\n",
    "    node = tree.find_any(node_name)\n",
    "    distances = [(leaf, tree.distance(node, leaf)) for leaf in tree.get_terminals()]\n",
    "    sorted_leaves = sorted(distances, key=itemgetter(1))[:n]\n",
    "    return sorted_leaves\n",
    "\n",
    "def extract_genbank_id(leaf):\n",
    "    return leaf.name.split(\"|\")[0] if leaf else None\n",
    "\n",
    "def fetch_record(genbank_id):\n",
    "    try:\n",
    "        with Entrez.efetch(db=\"nucleotide\", id=genbank_id, rettype=\"gb\", retmode=\"text\") as handle:\n",
    "            return handle.read()\n",
    "    except Exception as e:\n",
    "        logger.error(f\"Error fetching GenBank record for ID {genbank_id}: {e}\")\n",
    "        return None\n",
    "\n",
    "def parse_collection_date(record):\n",
    "    if record:\n",
    "        match = re.search(r'/collection_date=\"([^\"]*)\"', record)\n",
    "        if match:\n",
    "            return match.group(1)\n",
    "    return None\n",
    "\n",
    "def format_dates_and_extract_year(df):\n",
    "    df[\"Collection Date\"] = pd.to_datetime(df[\"Collection Date\"], errors='coerce')\n",
    "    df[\"Year\"] = df[\"Collection Date\"].dt.year.astype('Int64', errors='ignore')\n",
    "    return df\n",
    "\n",
    "def annotate_dataframe_with_dates(df, tree_dir, n=10):\n",
    "    \"\"\"\n",
    "    Annotate DataFrame with GenBank IDs, distances to closest leaves, and collection dates.\n",
    "    \"\"\"\n",
    "    for i, row in tqdm(df.iterrows(), total=df.shape[0], desc='Annotating DataFrame'):\n",
    "        virus = row[\"Viral clique\"]\n",
    "        node_name = row[\"Node name\"]\n",
    "        tree_path = get_tree_path(tree_dir, virus)\n",
    "        tree = read_tree(tree_path)\n",
    "        leaf_genbank_id = None\n",
    "        leaf_distance = None\n",
    "        collection_date = None\n",
    "\n",
    "        if tree:\n",
    "            closest_leaves = find_closest_leaves(tree, node_name, n)\n",
    "            for leaf, distance in closest_leaves:\n",
    "                genbank_id = extract_genbank_id(leaf)\n",
    "                record = fetch_record(genbank_id)\n",
    "                if record:\n",
    "                    collection_date = parse_collection_date(record)\n",
    "                    if collection_date:\n",
    "                        leaf_genbank_id = genbank_id\n",
    "                        leaf_distance = distance\n",
    "                        break  # Stop if we've found a valid GenBank ID with a collection date\n",
    "\n",
    "        df.loc[i, 'Leaf GenBank ID'] = leaf_genbank_id\n",
    "        df.loc[i, 'Leaf Distance'] = leaf_distance\n",
    "        df.loc[i, 'Collection Date'] = collection_date\n",
    "\n",
    "    return df\n",
    "\n",
    "#####################################\n",
    "# Viral cliques and sequencing effort\n",
    "#####################################\n",
    "\n",
    "def load_viral_data(xls_path):\n",
    "    return pd.read_excel(xls_path, sheet_name=0, header=1)\n",
    "\n",
    "def sample_viral_data(vir_df, sample_size=1000, seed=42):\n",
    "    return vir_df.sample(n=sample_size, random_state=seed)\n",
    "\n",
    "def process_genbank_ids(genbank_ids):\n",
    "    \"\"\"\n",
    "    Fetch and process GenBank records for a list of IDs.\n",
    "    \"\"\"\n",
    "    collection_dates = []\n",
    "    for genbank_id in tqdm(genbank_ids, desc=\"Fetching GenBank Records\"):\n",
    "        record = fetch_record(genbank_id)\n",
    "        if record:\n",
    "            collection_date = parse_collection_date(record)\n",
    "            collection_dates.append(collection_date)\n",
    "        else:\n",
    "            collection_dates.append(None)\n",
    "        time.sleep(0.1)\n",
    "    return collection_dates\n",
    "\n",
    "#####################################\n",
    "# Combining and plotting the datasets\n",
    "#####################################\n",
    "\n",
    "def calculate_sequencing_effort(vir_df):\n",
    "    return vir_df['Year'].value_counts().sort_index()\n",
    "\n",
    "def calculate_adjusted_events(zoonotic_df, sequencing_effort):\n",
    "    zoonotic_events = zoonotic_df['Year'].value_counts().sort_index()\n",
    "    adjusted_events = zoonotic_events / sequencing_effort\n",
    "    return adjusted_events.fillna(0)\n",
    "\n",
    "def create_combined_dataframe(sequencing_effort, zoonotic_events, adjusted_events):\n",
    "    combined_df = pd.DataFrame({\n",
    "        'Year': sequencing_effort.index,\n",
    "        'Sequencing Effort': sequencing_effort.values,\n",
    "        'Zoonotic Events': zoonotic_events.reindex(sequencing_effort.index, fill_value=0),\n",
    "        'Adjusted Events': adjusted_events.reindex(sequencing_effort.index, fill_value=0)\n",
    "    })\n",
    "    return combined_df\n",
    "\n",
    "def merge_hover_data(combined_df, zoo_df):\n",
    "    \"\"\"\n",
    "    Merge hover data into the combined DataFrame.\n",
    "    \"\"\"\n",
    "    hover_data = prepare_hover_data(zoo_df)\n",
    "    return pd.merge(combined_df, hover_data, on='Year', how='left')\n",
    "\n",
    "def prepare_hover_data(df):\n",
    "    \"\"\"\n",
    "    Aggregates hover data for multiple entries per year into single strings for display.\n",
    "    \"\"\"\n",
    "    hover_data = df.groupby('Year').agg({\n",
    "        'Viral clique': lambda x: \", \".join(x),\n",
    "        'Leaf GenBank ID': lambda x: \", \".join(x),\n",
    "        'Collection Date': lambda x: \", \".join(x.astype(str)),\n",
    "        'Leaf Distance': lambda x: \", \".join(x.astype(str))\n",
    "    }).reset_index()\n",
    "    return hover_data\n",
    "\n",
    "def plot_combined_data(df):\n",
    "    \"\"\"\n",
    "    Plot the combined data with hover information.\n",
    "    \"\"\"\n",
    "    # Ensure all data is string and handle NaNs\n",
    "    for col in ['Viral clique', 'Leaf GenBank ID', 'Collection Date', 'Leaf Distance']:\n",
    "        df[col] = df[col].fillna('N/A').astype(str)\n",
    "    \n",
    "    # Create subplots\n",
    "    fig = make_subplots(specs=[[{\"secondary_y\": True}]])\n",
    "\n",
    "    # Add traces with hover data\n",
    "    fig.add_trace(\n",
    "        go.Scatter(\n",
    "            x=df['Year'],\n",
    "            y=df['Zoonotic Events'],\n",
    "            name='Zoonotic Events',\n",
    "            mode='lines+markers',\n",
    "            customdata=df[['Viral clique', 'Leaf GenBank ID', 'Collection Date', 'Leaf Distance']],\n",
    "            hovertemplate=\"<b>Year:</b> %{x}<br>\" +\n",
    "                          \"<b>Number of Events:</b> %{y}<br>\" +\n",
    "                          \"<b>Viral Clique:</b> %{customdata[0]}<br>\" +\n",
    "                          \"<b>Leaf GenBank ID:</b> %{customdata[1]}<br>\" +\n",
    "                          \"<b>Collection Date:</b> %{customdata[2]}<br>\" +\n",
    "                          \"<b>Leaf Distance:</b> %{customdata[3]}<br>\"\n",
    "        ),\n",
    "        secondary_y=False\n",
    "    )\n",
    "    fig.add_trace(\n",
    "        go.Scatter(\n",
    "            x=df['Year'],\n",
    "            y=df['Sequencing Effort'],\n",
    "            name='Sequencing Effort',\n",
    "            mode='lines+markers'\n",
    "        ),\n",
    "        secondary_y=True\n",
    "    )\n",
    "    fig.add_trace(\n",
    "        go.Scatter(\n",
    "            x=df['Year'],\n",
    "            y=df['Adjusted Events'],\n",
    "            name='Adjusted Zoonotic Events',\n",
    "            mode='lines+markers'\n",
    "        ),\n",
    "        secondary_y=False\n",
    "    )\n",
    "\n",
    "    # Add figure title\n",
    "    fig.update_layout(\n",
    "        title_text=\"Zoonotic Events and Sequencing Effort Over Time\",\n",
    "        plot_bgcolor='white',\n",
    "        paper_bgcolor='white'\n",
    "    )\n",
    "\n",
    "    # Set x-axis title\n",
    "    fig.update_xaxes(title_text=\"Year\")\n",
    "\n",
    "    # Set y-axes titles\n",
    "    fig.update_yaxes(title_text=\"Number of Zoonotic Events\", secondary_y=False)\n",
    "    fig.update_yaxes(title_text=\"Sequencing Effort\", secondary_y=True)\n",
    "\n",
    "    # Show the figure\n",
    "    fig.show()"
   ]
  },
  {
   "cell_type": "code",
   "execution_count": 2,
   "metadata": {},
   "outputs": [
    {
     "name": "stderr",
     "output_type": "stream",
     "text": [
      "2024-04-29 15:26:54,929 - __main__ - INFO - Zoonotic data already annotated.\n",
      "2024-04-29 15:26:54,940 - __main__ - INFO - Viral data already annotated.\n"
     ]
    }
   ],
   "source": [
    "# Define your data paths\n",
    "xls_path = \"data/41559_2024_2353_MOESM5_ESM.xlsx\"\n",
    "tree_dir = \"data/labelled_trees\"\n",
    "vir_csv_path = \"data/viral_cliques_with_year.csv\"\n",
    "zoo_csv_path = \"data/zoonotic_events_with_year.csv\"\n",
    "\n",
    "# Load the zoonotic events data\n",
    "if os.path.exists(zoo_csv_path):\n",
    "    zoo_df = pd.read_csv(zoo_csv_path)\n",
    "    logger.info(\"Zoonotic data already annotated.\")\n",
    "else:\n",
    "    zoo_df = pd.read_excel(xls_path, sheet_name=2, header=4)\n",
    "    zoo_df = zoo_df[zoo_df[\"Event type\"] == \"Zoonotic\"]\n",
    "    df_annotated = annotate_dataframe_with_dates(zoo_df, tree_dir)\n",
    "    zoo_df = format_dates_and_extract_year(df_annotated)\n",
    "    zoo_df.to_csv(zoo_csv_path, index=False)\n",
    "    logger.info(\"Zoonotic data annotated and saved.\")\n",
    "\n",
    "# Load the viral clique data for sequencing effort\n",
    "if os.path.exists(vir_csv_path):\n",
    "    subset_vir_df = pd.read_csv(vir_csv_path)\n",
    "    logger.info(\"Viral data already annotated.\")\n",
    "else:\n",
    "    vir_df = load_viral_data(xls_path)\n",
    "    subset_vir_df = sample_viral_data(vir_df)\n",
    "    subset_vir_df['Collection Date'] = process_genbank_ids(subset_vir_df['Accession'].tolist())\n",
    "    subset_vir_df = format_dates_and_extract_year(subset_vir_df)\n",
    "    subset_vir_df.to_csv(vir_csv_path, index=False)\n",
    "    logger.info(\"Viral data annotated and saved.\")\n",
    "    \n",
    "# Combine the data\n",
    "sequencing_effort = calculate_sequencing_effort(subset_vir_df)\n",
    "adjusted_events = calculate_adjusted_events(zoo_df, sequencing_effort)\n",
    "combined_df = create_combined_dataframe(sequencing_effort, zoo_df['Year'].value_counts().sort_index(), adjusted_events)\n",
    "combined_df = merge_hover_data(combined_df, zoo_df)"
   ]
  },
  {
   "cell_type": "code",
   "execution_count": 3,
   "metadata": {},
   "outputs": [
    {
     "data": {
      "application/vnd.plotly.v1+json": {
       "config": {
        "plotlyServerURL": "https://plot.ly"
       },
       "data": [
        {
         "customdata": [
          [
           "N/A",
           "N/A",
           "N/A",
           "N/A"
          ],
          [
           "N/A",
           "N/A",
           "N/A",
           "N/A"
          ],
          [
           "N/A",
           "N/A",
           "N/A",
           "N/A"
          ],
          [
           "Togaviridae_13, Togaviridae_18",
           "KC344484.1, KJ469595.1",
           "1961-01-01, 1961-01-01",
           "0.0046131656, 0.0014668747"
          ],
          [
           "N/A",
           "N/A",
           "N/A",
           "N/A"
          ],
          [
           "Togaviridae_14",
           "KC344447.1",
           "1966-04-01",
           "0.0003542456999999"
          ],
          [
           "Togaviridae_13, Togaviridae_13, Togaviridae_7",
           "KC344485.2, KC344485.2, GQ287643.1",
           "1967-01-01, 1967-01-01, 1967-01-01",
           "3e-06, 2e-06, 0.0023708455"
          ],
          [
           "Flaviviridae_13, Orthomyxoviridae_1",
           "EU249803.1, HM641150.1",
           "1968-01-01, 1968-01-01",
           "0.0010761097, 0.0115062288999999"
          ],
          [
           "N/A",
           "N/A",
           "N/A",
           "N/A"
          ],
          [
           "Togaviridae_13",
           "KC344519.1",
           "1971-05-01",
           "0.0044291167"
          ],
          [
           "N/A",
           "N/A",
           "N/A",
           "N/A"
          ],
          [
           "Sedoreoviridae_2",
           "JQ309138.1",
           "1975-01-01",
           "0.1147246632"
          ],
          [
           "Sedoreoviridae_2",
           "KC579531.1",
           "1976-01-01",
           "0.0371000477"
          ],
          [
           "Sedoreoviridae_3",
           "EU708934.1",
           "1979-01-01",
           "0.0052760471"
          ],
          [
           "Flaviviridae_19, Flaviviridae_35, Poxviridae_2, Sedoreoviridae_1",
           "JX041631.1, MK007538.1, HQ420895.1, EU636924.1",
           "1980-01-01, 1980-01-01, 1980-01-01, 1980-01-01",
           "0.0035211638, 0.0058986265, 0.0001979852, 0.0004426779"
          ],
          [
           "N/A",
           "N/A",
           "N/A",
           "N/A"
          ],
          [
           "Rhabdoviridae_10",
           "KX148107.1",
           "1986-01-01",
           "0.0154274223"
          ],
          [
           "N/A",
           "N/A",
           "N/A",
           "N/A"
          ],
          [
           "Filoviridae_6, Sedoreoviridae_1, Sedoreoviridae_1, Sedoreoviridae_1, Sedoreoviridae_2, Sedoreoviridae_2",
           "KY798005.1, LC133569.1, LC133536.1, LC133536.1, JN104611.1, JN104611.1",
           "1989-01-01, 1989-01-01, 1989-01-01, 1989-01-01, 1989-01-01, 1989-01-01",
           "0.0001608672, 0.0230873836, 0.0145201903, 0.0160389998, 0.0166972450999999, 0.0191877167999999"
          ],
          [
           "Rhabdoviridae_9",
           "EU293113.1",
           "1990-01-01",
           "0.0305459726999999"
          ],
          [
           "N/A",
           "N/A",
           "N/A",
           "N/A"
          ],
          [
           "N/A",
           "N/A",
           "N/A",
           "N/A"
          ],
          [
           "Rhabdoviridae_3",
           "GU358653.1",
           "1994-01-01",
           "0.0092861404"
          ],
          [
           "Arenaviridae_61",
           "KU746275.1",
           "1995-04-01",
           "0.03414714591"
          ],
          [
           "N/A",
           "N/A",
           "N/A",
           "N/A"
          ],
          [
           "N/A",
           "N/A",
           "N/A",
           "N/A"
          ],
          [
           "Sedoreoviridae_1",
           "MT276806.1",
           "1998-02-06",
           "0.0155066928"
          ],
          [
           "Poxviridae_2",
           "OP125540.1",
           "1999-01-01",
           "3.95517e-05"
          ],
          [
           "Sedoreoviridae_2",
           "KC139781.1",
           "2000-01-01",
           "0.0267982512"
          ],
          [
           "Filoviridae_8, Filoviridae_8, Orthomyxoviridae_1, Rhabdoviridae_10",
           "KY785985.1, KY471124.1, GU052095.1, MH514968.1",
           "2001-01-01, 2001-01-01, 2001-01-01, 2001-01-01",
           "1e-06, 1e-06, 2.7924e-06, 0.0121471562"
          ],
          [
           "Flaviviridae_13, Sedoreoviridae_2, Spinareoviridae_3, Togaviridae_4",
           "KJ501514.1, GU199191.1, HM159613.1, KJ469590.1",
           "2002-01-01, 2002-02-01, 2002-01-01, 2002-01-01",
           "0.0001895395, 0.0208371422, 0.0217443439, 0.0012438435"
          ],
          [
           "Flaviviridae_13, Flaviviridae_13, Hepeviridae_6, Hepeviridae_6, Hepeviridae_6, Orthomyxoviridae_1, Orthomyxoviridae_1, Rhabdoviridae_10, Sedoreoviridae_1",
           "KJ501478.1, DQ164199.1, LC646471.1, LC646471.1, LC646471.1, GU052431.1, GU052431.1, KT728348.1, GQ496269.1",
           "2003-01-01, 2003-01-01, 2003-12-21, 2003-12-21, 2003-12-21, 2003-01-01, 2003-01-01, 2003-01-01, 2003-01-01",
           "0.0001978815, 0.0004721728, 0.0032054620999999, 0.0030409858, 0.0035004027, 0.0013045794, 0.0012395975, 0.0095268243, 0.0252693441"
          ],
          [
           "Orthomyxoviridae_1",
           "GU052439.1",
           "2004-01-01",
           "0.0004455754"
          ],
          [
           "Orthomyxoviridae_1, Orthomyxoviridae_1, Orthomyxoviridae_1, Orthomyxoviridae_1",
           "HQ664942.1, HM172360.1, HM172360.1, HM172360.1",
           "2005-04-07, 2005-01-01, 2005-01-01, 2005-01-01",
           "0.0008865259, 0.0013036475, 0.0008856479, 0.0008870116"
          ],
          [
           "Flaviviridae_4, Hepeviridae_18, Orthomyxoviridae_1, Orthomyxoviridae_1, Rhabdoviridae_3, Rhabdoviridae_3, Rhabdoviridae_3, Sedoreoviridae_2",
           "JN604986.1, LC406552.1, GU052170.1, GU052170.1, LC628899.1, JQ970481.1, JQ970482.1, KF726058.1",
           "2006-04-01, 2006-01-01, 2006-01-01, 2006-01-01, 2006-01-01, 2006-01-01, 2006-01-01, 2006-02-27",
           "0.0001948245, 0.0361875905, 0.0004413385, 0.0008854414, 0.0042088526, 0.0021732258, 0.0011654073, 0.0187879759"
          ],
          [
           "Orthomyxoviridae_1, Orthomyxoviridae_1, Orthomyxoviridae_1, Orthomyxoviridae_1, Orthomyxoviridae_1, Orthomyxoviridae_1, Orthomyxoviridae_1, Orthomyxoviridae_1",
           "GU186751.1, JN105971.1, GU050513.1, GU050529.1, GU050529.1, HM114551.1, GU052539.1, GU050434.1",
           "2007-01-01, 2007-10-05, 2007-01-01, 2007-01-01, 2007-01-01, 2007-01-01, 2007-01-01, 2007-01-01",
           "2.1746e-06, 2.0008e-06, 3.0097e-06, 0.0004429659, 3.0012e-06, 0.0008819462, 0.0008839655, 0.0022133084"
          ],
          [
           "Filoviridae_1, Flaviviridae_13, Flaviviridae_19, Flaviviridae_19, Orthomyxoviridae_1, Paramyxoviridae_19, Rhabdoviridae_6, Sedoreoviridae_1, Sedoreoviridae_2",
           "JX458853.1, FJ483548.1, KF179640.1, KF179640.1, FJ868020.1, HM044317.1, KY688147.1, FJ495126.1, AB779622.1",
           "2008-01-01, 2008-01-01, 2008-01-01, 2008-01-01, 2008-01-01, 2008-07-01, 2008-01-01, 2008-05-25, 2008-05-01",
           "0.0027690684, 0.0004456671, 0.0010130644999999, 0.0011110326999999, 0.0022324439, 1e-06, 0.0049514628999999, 0.0037763165, 0.0037856433"
          ],
          [
           "Filoviridae_1, Flaviviridae_13, Flaviviridae_18, Hepeviridae_4, Hepeviridae_6, Hepeviridae_6, Orthomyxoviridae_1, Orthomyxoviridae_1, Orthomyxoviridae_1, Orthomyxoviridae_1, Orthomyxoviridae_1, Orthomyxoviridae_2, Picobirnaviridae_35, Poxviridae_2",
           "JX458855.1, KX547544.1, HM569263.1, JQ740781.1, LC406485.1, LC406489.1, KC859188.1, AB539737.1, AB539737.1, FJ966978.1, GU937745.1, HQ877025.1, KY120190.1, MK035757.1",
           "2009-01-01, 2009-08-26, 2009-09-24, 2009-07-01, 2009-10-27, 2009-12-14, 2009-09-04, 2009-09-21, 2009-09-21, 2009-04-09, 2009-07-27, 2009-03-20, 2009-08-06, 2009-01-01",
           "0.0005011138, 0.0008542585, 0.0005304704, 0.0243203018, 0.0003956549, 0.0011200301, 0.0004481583, 1.0004e-06, 0.0004487532999999, 0.0004525721, 0.0017788401, 0.0186080572, 0.0318867596999999, 6.704e-07"
          ],
          [
           "Hepeviridae_10, Hepeviridae_2, Hepeviridae_4, Orthomyxoviridae_1, Orthomyxoviridae_1, Togaviridae_4",
           "JX565469.1, JN906974.1, KJ155502.1, JF965090.1, KF768202.1, KJ469648.1",
           "2010-09-12, 2010-01-01, 2010-07-20, 2010-04-01, 2010-05-10, 2010-01-01",
           "0.0650600963, 1.0746e-06, 0.0172026641, 0.0145188132999999, 0.0167250227, 0.0010375053"
          ],
          [
           "Hepeviridae_10, Orthomyxoviridae_1, Orthomyxoviridae_1, Rhabdoviridae_10, Rhabdoviridae_10",
           "AB740222.1, KP404234.1, KF277180.1, KF977826.1, MH514983.1",
           "2011-01-01, 2011-01-06, 2011-10-19, 2011-09-01, 2011-01-01",
           "0.0537431284, 0.0026737797, 0.0024124018, 0.0095089565, 0.0015524637"
          ],
          [
           "Coronaviridae_26, Rhabdoviridae_10",
           "KC776174.1, KY175229.1",
           "2012-04-01, 2012-01-01",
           "0.0020379415, 0.0029124141"
          ],
          [
           "Coronaviridae_26, Coronaviridae_3, Flaviviridae_7, Hepeviridae_18, Orthomyxoviridae_1, Orthomyxoviridae_1, Orthomyxoviridae_1, Orthomyxoviridae_1, Orthomyxoviridae_1, Orthomyxoviridae_1, Orthomyxoviridae_1, Orthomyxoviridae_1, Rhabdoviridae_10, Sedoreoviridae_1, Sedoreoviridae_2",
           "KJ713295.1, KY417146.1, MG599476.1, LC037955.1, KF469232.1, KJ508888.1, KJ508888.1, KU042164.1, KJ508888.1, KJ508888.1, KJ508888.1, KJ508888.1, MH514975.1, KU128892.1, KF726069.1",
           "2013-11-01, 2013-04-17, 2013-07-01, 2013-01-01, 2013-04-24, 2013-05-09, 2013-05-09, 2013-07-19, 2013-05-09, 2013-05-09, 2013-05-09, 2013-05-09, 2013-01-01, 2013-08-27, 2013-03-01",
           "0.000272683, 0.0180744349, 0.0016403642, 0.0607175415, 0.000440474, 5.0020000000000006e-06, 5.0020000000000006e-06, 0.0004464826, 5.4667e-06, 6.0882e-06, 0.0004376885, 6.2404e-06, 0.0009024814, 0.0099956209, 0.0145728433"
          ],
          [
           "Adenoviridae_5, Coronaviridae_26, Coronaviridae_26, Coronaviridae_26, Coronaviridae_26, Flaviviridae_19, Orthomyxoviridae_1, Sedoreoviridae_2",
           "MZ882383.1, KJ650098.1, KY581698.1, KP209306.1, KT368852.1, KM659876.1, KJ195791.1, OP971575.1",
           "2014-01-01, 2014-02-16, 2014-06-01, 2014-04-07, 2014-10-01, 2014-01-01, 2014-01-17, 2014-01-01",
           "0.01731723771, 9.71043e-05, 2.0261e-06, 0.0002649117, 0.0002025034, 0.0008341828999999, 2.3688e-06, 0.0463721887"
          ],
          [
           "Coronaviridae_18, Coronaviridae_26, Coronaviridae_26, Coronaviridae_26, Coronaviridae_26, Coronaviridae_26, Coronaviridae_26, Coronaviridae_26, Coronaviridae_26, Filoviridae_8, Flaviviridae_12, Flaviviridae_12, Flaviviridae_19, Flaviviridae_19, Flaviviridae_19, Flaviviridae_19, Flaviviridae_4, Hepeviridae_4, Sedoreoviridae_2, Sedoreoviridae_2, Spinareoviridae_3",
           "KR150443.1, KR011265.1, MF598647.1, MF598654.1, KT806055.1, KT368874.1, MF598657.1, MF598631.1, KT368884.1, KY471125.1, MK333804.1, MK333804.1, MF984337.1, MF984344.1, MF984344.1, MF984343.1, KU871348.1, KU356185.1, KU739902.1, KU739900.1, KX932029.1",
           "2015-03-24, 2015-01-26, 2015-03-01, 2015-03-01, 2015-02-10, 2015-03-01, 2015-03-01, 2015-03-01, 2015-04-01, 2015-01-01, 2015-08-17, 2015-08-17, 2015-01-01, 2015-01-01, 2015-01-01, 2015-01-01, 2015-02-02, 2015-09-27, 2015-03-01, 2015-02-01, 2015-11-01",
           "0.0003279567, 0.0002609691, 5.69185e-05, 0.0004345233, 6.45957e-05, 0.0003214542, 3.48069e-05, 4.834239999999999e-05, 3.62236e-05, 1e-06, 9.18742e-05, 9.28742e-05, 0.0006465584, 0.0005517497, 0.0011976721, 0.0001833539, 0.0017117013, 0.0008116716, 0.0268923853, 0.0298025991, 0.0208736904"
          ],
          [
           "Coronaviridae_18, Coronaviridae_26, Flaviviridae_12, Flaviviridae_18, Flaviviridae_4, Hepeviridae_14, Poxviridae_2, Rhabdoviridae_10, Sedoreoviridae_1, Sedoreoviridae_1",
           "KY065120.1, MN655011.1, MF370535.1, KY294722.1, KX945367.1, ON644869.1, MN974380.1, KY952220.1, MN479083.1, MN479083.1",
           "2016-01-01, 2016-06-01, 2016-08-30, 2016-01-01, 2016-03-16, 2016-06-17, 2016-10-01, 2016-01-01, 2016-01-01, 2016-01-01",
           "0.0005166109, 0.0003174497, 2e-06, 0.0021158796, 0.0018546658, 0.1040058508, 0.0013920391, 0.0049469474, 0.0099124884, 0.014486529"
          ],
          [
           "Coronaviridae_26, Coronaviridae_26, Coronaviridae_5, Flaviviridae_12, Sedoreoviridae_2",
           "MN654979.1, MG912604.1, MW591993.2, MN506283.1, MH624173.1",
           "2017-05-01, 2017-06-15, 2017-01-01, 2017-05-05, 2017-01-01",
           "0.0003088318, 0.0008659679, 0.0248868839, 2e-06, 0.0173970412"
          ],
          [
           "Anelloviridae_13, Flaviviridae_19, Paramyxoviridae_30, Picobirnaviridae_20, Picobirnaviridae_20, Sedoreoviridae_2, Sedoreoviridae_2",
           "MT671982.1, MH986056.1, MN604146.1, MW888440.1, MW977076.1, MK597982.1, OM201224.1",
           "2018-07-01, 2018-01-01, 2018-01-01, 2018-01-01, 2018-08-30, 2018-05-01, 2018-01-01",
           "0.0013142753, 0.0002799298, 0.0007642893, 0.1396455124999999, 0.044621436, 0.0088676873, 0.017680978"
          ],
          [
           "Flaviviridae_19, Hepeviridae_18, Herpesviridae_4, Rhabdoviridae_10, Rhabdoviridae_3, Rhabdoviridae_5, Rhabdoviridae_5, Sedoreoviridae_2",
           "MN794935.1, OP185389.1, MT468550.1, MW057695.1, MN857170.1, MT374180.1, MW551946.1, OQ440162.1",
           "2019-01-01, 2019-04-01, 2019-01-01, 2019-01-01, 2019-05-27, 2019-11-01, 2019-08-29, 2019-01-01",
           "0.0005516322, 0.0318972791, 3.74322e-05, 0.0018531108, 0.0018412704, 0.0038476609, 0.0038195876, 0.1041363033"
          ],
          [
           "Coronaviridae_12",
           "MT704315.1",
           "2020-04-04",
           "3.51363e-05"
          ],
          [
           "Coronaviridae_12, Coronaviridae_12, Coronaviridae_12, Rhabdoviridae_9, Sedoreoviridae_2, Sedoreoviridae_2, Sedoreoviridae_2, Sedoreoviridae_2, Sedoreoviridae_2",
           "OY367154.1, OY366736.1, ON564647.1, OQ410148.1, OQ440188.1, OQ743746.1, OQ743746.1, OQ743746.1, OQ743746.1",
           "2021-12-13, 2021-06-10, 2021-05-25, 2021-01-01, 2021-01-01, 2021-08-01, 2021-08-01, 2021-08-01, 2021-08-01",
           "0.0002440372, 0.0001775932, 4.4042e-05, 5.464e-07, 0.0152304821, 0.0205995073999999, 0.019854804, 0.0144318477, 0.034524052"
          ],
          [
           "Coronaviridae_12, Coronaviridae_12, Coronaviridae_12",
           "OW444422.1, OW444422.1, OM475741.1",
           "2022-01-01, 2022-01-01, 2022-01-19",
           "3.25323e-05, 3.25323e-05, 6.77475e-05"
          ],
          [
           "Flaviviridae_12",
           "OQ675592.1",
           "2023-02-24",
           "0.0002147829"
          ]
         ],
         "hovertemplate": "<b>Year:</b> %{x}<br><b>Number of Events:</b> %{y}<br><b>Viral Clique:</b> %{customdata[0]}<br><b>Leaf GenBank ID:</b> %{customdata[1]}<br><b>Collection Date:</b> %{customdata[2]}<br><b>Leaf Distance:</b> %{customdata[3]}<br>",
         "mode": "lines+markers",
         "name": "Zoonotic Events",
         "type": "scatter",
         "x": [
          1910,
          1955,
          1959,
          1961,
          1962,
          1966,
          1967,
          1968,
          1969,
          1971,
          1973,
          1975,
          1976,
          1979,
          1980,
          1984,
          1986,
          1988,
          1989,
          1990,
          1991,
          1992,
          1994,
          1995,
          1996,
          1997,
          1998,
          1999,
          2000,
          2001,
          2002,
          2003,
          2004,
          2005,
          2006,
          2007,
          2008,
          2009,
          2010,
          2011,
          2012,
          2013,
          2014,
          2015,
          2016,
          2017,
          2018,
          2019,
          2020,
          2021,
          2022,
          2023
         ],
         "xaxis": "x",
         "y": [
          0,
          0,
          0,
          2,
          0,
          1,
          3,
          2,
          0,
          1,
          0,
          1,
          1,
          1,
          4,
          0,
          1,
          0,
          6,
          1,
          0,
          0,
          1,
          1,
          0,
          0,
          1,
          1,
          1,
          4,
          4,
          9,
          1,
          4,
          8,
          8,
          9,
          14,
          6,
          5,
          2,
          15,
          8,
          21,
          10,
          5,
          7,
          8,
          1,
          9,
          3,
          1
         ],
         "yaxis": "y"
        },
        {
         "mode": "lines+markers",
         "name": "Sequencing Effort",
         "type": "scatter",
         "x": [
          1910,
          1955,
          1959,
          1961,
          1962,
          1966,
          1967,
          1968,
          1969,
          1971,
          1973,
          1975,
          1976,
          1979,
          1980,
          1984,
          1986,
          1988,
          1989,
          1990,
          1991,
          1992,
          1994,
          1995,
          1996,
          1997,
          1998,
          1999,
          2000,
          2001,
          2002,
          2003,
          2004,
          2005,
          2006,
          2007,
          2008,
          2009,
          2010,
          2011,
          2012,
          2013,
          2014,
          2015,
          2016,
          2017,
          2018,
          2019,
          2020,
          2021,
          2022,
          2023
         ],
         "xaxis": "x",
         "y": [
          1,
          1,
          2,
          3,
          2,
          1,
          2,
          1,
          1,
          1,
          1,
          1,
          2,
          3,
          3,
          1,
          1,
          2,
          3,
          1,
          2,
          1,
          1,
          4,
          3,
          4,
          1,
          6,
          7,
          18,
          9,
          13,
          18,
          17,
          24,
          31,
          29,
          48,
          36,
          31,
          59,
          57,
          76,
          71,
          65,
          84,
          61,
          48,
          42,
          40,
          29,
          2
         ],
         "yaxis": "y2"
        },
        {
         "mode": "lines+markers",
         "name": "Adjusted Zoonotic Events",
         "type": "scatter",
         "x": [
          1910,
          1955,
          1959,
          1961,
          1962,
          1966,
          1967,
          1968,
          1969,
          1971,
          1973,
          1975,
          1976,
          1979,
          1980,
          1984,
          1986,
          1988,
          1989,
          1990,
          1991,
          1992,
          1994,
          1995,
          1996,
          1997,
          1998,
          1999,
          2000,
          2001,
          2002,
          2003,
          2004,
          2005,
          2006,
          2007,
          2008,
          2009,
          2010,
          2011,
          2012,
          2013,
          2014,
          2015,
          2016,
          2017,
          2018,
          2019,
          2020,
          2021,
          2022,
          2023
         ],
         "xaxis": "x",
         "y": [
          0,
          0,
          0,
          0.6666666666666666,
          0,
          1,
          1.5,
          2,
          0,
          1,
          0,
          1,
          0.5,
          0.3333333333333333,
          1.3333333333333333,
          0,
          1,
          0,
          2,
          1,
          0,
          0,
          1,
          0.25,
          0,
          0,
          1,
          0.16666666666666666,
          0.14285714285714285,
          0.2222222222222222,
          0.4444444444444444,
          0.6923076923076923,
          0.05555555555555555,
          0.23529411764705882,
          0.3333333333333333,
          0.25806451612903225,
          0.3103448275862069,
          0.2916666666666667,
          0.16666666666666666,
          0.16129032258064516,
          0.03389830508474576,
          0.2631578947368421,
          0.10526315789473684,
          0.29577464788732394,
          0.15384615384615385,
          0.05952380952380952,
          0.11475409836065574,
          0.16666666666666666,
          0.023809523809523808,
          0.225,
          0.10344827586206896,
          0.5
         ],
         "yaxis": "y"
        }
       ],
       "layout": {
        "paper_bgcolor": "white",
        "plot_bgcolor": "white",
        "template": {
         "data": {
          "bar": [
           {
            "error_x": {
             "color": "#2a3f5f"
            },
            "error_y": {
             "color": "#2a3f5f"
            },
            "marker": {
             "line": {
              "color": "#E5ECF6",
              "width": 0.5
             }
            },
            "type": "bar"
           }
          ],
          "barpolar": [
           {
            "marker": {
             "line": {
              "color": "#E5ECF6",
              "width": 0.5
             }
            },
            "type": "barpolar"
           }
          ],
          "carpet": [
           {
            "aaxis": {
             "endlinecolor": "#2a3f5f",
             "gridcolor": "white",
             "linecolor": "white",
             "minorgridcolor": "white",
             "startlinecolor": "#2a3f5f"
            },
            "baxis": {
             "endlinecolor": "#2a3f5f",
             "gridcolor": "white",
             "linecolor": "white",
             "minorgridcolor": "white",
             "startlinecolor": "#2a3f5f"
            },
            "type": "carpet"
           }
          ],
          "choropleth": [
           {
            "colorbar": {
             "outlinewidth": 0,
             "ticks": ""
            },
            "type": "choropleth"
           }
          ],
          "contour": [
           {
            "colorbar": {
             "outlinewidth": 0,
             "ticks": ""
            },
            "colorscale": [
             [
              0,
              "#0d0887"
             ],
             [
              0.1111111111111111,
              "#46039f"
             ],
             [
              0.2222222222222222,
              "#7201a8"
             ],
             [
              0.3333333333333333,
              "#9c179e"
             ],
             [
              0.4444444444444444,
              "#bd3786"
             ],
             [
              0.5555555555555556,
              "#d8576b"
             ],
             [
              0.6666666666666666,
              "#ed7953"
             ],
             [
              0.7777777777777778,
              "#fb9f3a"
             ],
             [
              0.8888888888888888,
              "#fdca26"
             ],
             [
              1,
              "#f0f921"
             ]
            ],
            "type": "contour"
           }
          ],
          "contourcarpet": [
           {
            "colorbar": {
             "outlinewidth": 0,
             "ticks": ""
            },
            "type": "contourcarpet"
           }
          ],
          "heatmap": [
           {
            "colorbar": {
             "outlinewidth": 0,
             "ticks": ""
            },
            "colorscale": [
             [
              0,
              "#0d0887"
             ],
             [
              0.1111111111111111,
              "#46039f"
             ],
             [
              0.2222222222222222,
              "#7201a8"
             ],
             [
              0.3333333333333333,
              "#9c179e"
             ],
             [
              0.4444444444444444,
              "#bd3786"
             ],
             [
              0.5555555555555556,
              "#d8576b"
             ],
             [
              0.6666666666666666,
              "#ed7953"
             ],
             [
              0.7777777777777778,
              "#fb9f3a"
             ],
             [
              0.8888888888888888,
              "#fdca26"
             ],
             [
              1,
              "#f0f921"
             ]
            ],
            "type": "heatmap"
           }
          ],
          "heatmapgl": [
           {
            "colorbar": {
             "outlinewidth": 0,
             "ticks": ""
            },
            "colorscale": [
             [
              0,
              "#0d0887"
             ],
             [
              0.1111111111111111,
              "#46039f"
             ],
             [
              0.2222222222222222,
              "#7201a8"
             ],
             [
              0.3333333333333333,
              "#9c179e"
             ],
             [
              0.4444444444444444,
              "#bd3786"
             ],
             [
              0.5555555555555556,
              "#d8576b"
             ],
             [
              0.6666666666666666,
              "#ed7953"
             ],
             [
              0.7777777777777778,
              "#fb9f3a"
             ],
             [
              0.8888888888888888,
              "#fdca26"
             ],
             [
              1,
              "#f0f921"
             ]
            ],
            "type": "heatmapgl"
           }
          ],
          "histogram": [
           {
            "marker": {
             "colorbar": {
              "outlinewidth": 0,
              "ticks": ""
             }
            },
            "type": "histogram"
           }
          ],
          "histogram2d": [
           {
            "colorbar": {
             "outlinewidth": 0,
             "ticks": ""
            },
            "colorscale": [
             [
              0,
              "#0d0887"
             ],
             [
              0.1111111111111111,
              "#46039f"
             ],
             [
              0.2222222222222222,
              "#7201a8"
             ],
             [
              0.3333333333333333,
              "#9c179e"
             ],
             [
              0.4444444444444444,
              "#bd3786"
             ],
             [
              0.5555555555555556,
              "#d8576b"
             ],
             [
              0.6666666666666666,
              "#ed7953"
             ],
             [
              0.7777777777777778,
              "#fb9f3a"
             ],
             [
              0.8888888888888888,
              "#fdca26"
             ],
             [
              1,
              "#f0f921"
             ]
            ],
            "type": "histogram2d"
           }
          ],
          "histogram2dcontour": [
           {
            "colorbar": {
             "outlinewidth": 0,
             "ticks": ""
            },
            "colorscale": [
             [
              0,
              "#0d0887"
             ],
             [
              0.1111111111111111,
              "#46039f"
             ],
             [
              0.2222222222222222,
              "#7201a8"
             ],
             [
              0.3333333333333333,
              "#9c179e"
             ],
             [
              0.4444444444444444,
              "#bd3786"
             ],
             [
              0.5555555555555556,
              "#d8576b"
             ],
             [
              0.6666666666666666,
              "#ed7953"
             ],
             [
              0.7777777777777778,
              "#fb9f3a"
             ],
             [
              0.8888888888888888,
              "#fdca26"
             ],
             [
              1,
              "#f0f921"
             ]
            ],
            "type": "histogram2dcontour"
           }
          ],
          "mesh3d": [
           {
            "colorbar": {
             "outlinewidth": 0,
             "ticks": ""
            },
            "type": "mesh3d"
           }
          ],
          "parcoords": [
           {
            "line": {
             "colorbar": {
              "outlinewidth": 0,
              "ticks": ""
             }
            },
            "type": "parcoords"
           }
          ],
          "pie": [
           {
            "automargin": true,
            "type": "pie"
           }
          ],
          "scatter": [
           {
            "marker": {
             "colorbar": {
              "outlinewidth": 0,
              "ticks": ""
             }
            },
            "type": "scatter"
           }
          ],
          "scatter3d": [
           {
            "line": {
             "colorbar": {
              "outlinewidth": 0,
              "ticks": ""
             }
            },
            "marker": {
             "colorbar": {
              "outlinewidth": 0,
              "ticks": ""
             }
            },
            "type": "scatter3d"
           }
          ],
          "scattercarpet": [
           {
            "marker": {
             "colorbar": {
              "outlinewidth": 0,
              "ticks": ""
             }
            },
            "type": "scattercarpet"
           }
          ],
          "scattergeo": [
           {
            "marker": {
             "colorbar": {
              "outlinewidth": 0,
              "ticks": ""
             }
            },
            "type": "scattergeo"
           }
          ],
          "scattergl": [
           {
            "marker": {
             "colorbar": {
              "outlinewidth": 0,
              "ticks": ""
             }
            },
            "type": "scattergl"
           }
          ],
          "scattermapbox": [
           {
            "marker": {
             "colorbar": {
              "outlinewidth": 0,
              "ticks": ""
             }
            },
            "type": "scattermapbox"
           }
          ],
          "scatterpolar": [
           {
            "marker": {
             "colorbar": {
              "outlinewidth": 0,
              "ticks": ""
             }
            },
            "type": "scatterpolar"
           }
          ],
          "scatterpolargl": [
           {
            "marker": {
             "colorbar": {
              "outlinewidth": 0,
              "ticks": ""
             }
            },
            "type": "scatterpolargl"
           }
          ],
          "scatterternary": [
           {
            "marker": {
             "colorbar": {
              "outlinewidth": 0,
              "ticks": ""
             }
            },
            "type": "scatterternary"
           }
          ],
          "surface": [
           {
            "colorbar": {
             "outlinewidth": 0,
             "ticks": ""
            },
            "colorscale": [
             [
              0,
              "#0d0887"
             ],
             [
              0.1111111111111111,
              "#46039f"
             ],
             [
              0.2222222222222222,
              "#7201a8"
             ],
             [
              0.3333333333333333,
              "#9c179e"
             ],
             [
              0.4444444444444444,
              "#bd3786"
             ],
             [
              0.5555555555555556,
              "#d8576b"
             ],
             [
              0.6666666666666666,
              "#ed7953"
             ],
             [
              0.7777777777777778,
              "#fb9f3a"
             ],
             [
              0.8888888888888888,
              "#fdca26"
             ],
             [
              1,
              "#f0f921"
             ]
            ],
            "type": "surface"
           }
          ],
          "table": [
           {
            "cells": {
             "fill": {
              "color": "#EBF0F8"
             },
             "line": {
              "color": "white"
             }
            },
            "header": {
             "fill": {
              "color": "#C8D4E3"
             },
             "line": {
              "color": "white"
             }
            },
            "type": "table"
           }
          ]
         },
         "layout": {
          "annotationdefaults": {
           "arrowcolor": "#2a3f5f",
           "arrowhead": 0,
           "arrowwidth": 1
          },
          "coloraxis": {
           "colorbar": {
            "outlinewidth": 0,
            "ticks": ""
           }
          },
          "colorscale": {
           "diverging": [
            [
             0,
             "#8e0152"
            ],
            [
             0.1,
             "#c51b7d"
            ],
            [
             0.2,
             "#de77ae"
            ],
            [
             0.3,
             "#f1b6da"
            ],
            [
             0.4,
             "#fde0ef"
            ],
            [
             0.5,
             "#f7f7f7"
            ],
            [
             0.6,
             "#e6f5d0"
            ],
            [
             0.7,
             "#b8e186"
            ],
            [
             0.8,
             "#7fbc41"
            ],
            [
             0.9,
             "#4d9221"
            ],
            [
             1,
             "#276419"
            ]
           ],
           "sequential": [
            [
             0,
             "#0d0887"
            ],
            [
             0.1111111111111111,
             "#46039f"
            ],
            [
             0.2222222222222222,
             "#7201a8"
            ],
            [
             0.3333333333333333,
             "#9c179e"
            ],
            [
             0.4444444444444444,
             "#bd3786"
            ],
            [
             0.5555555555555556,
             "#d8576b"
            ],
            [
             0.6666666666666666,
             "#ed7953"
            ],
            [
             0.7777777777777778,
             "#fb9f3a"
            ],
            [
             0.8888888888888888,
             "#fdca26"
            ],
            [
             1,
             "#f0f921"
            ]
           ],
           "sequentialminus": [
            [
             0,
             "#0d0887"
            ],
            [
             0.1111111111111111,
             "#46039f"
            ],
            [
             0.2222222222222222,
             "#7201a8"
            ],
            [
             0.3333333333333333,
             "#9c179e"
            ],
            [
             0.4444444444444444,
             "#bd3786"
            ],
            [
             0.5555555555555556,
             "#d8576b"
            ],
            [
             0.6666666666666666,
             "#ed7953"
            ],
            [
             0.7777777777777778,
             "#fb9f3a"
            ],
            [
             0.8888888888888888,
             "#fdca26"
            ],
            [
             1,
             "#f0f921"
            ]
           ]
          },
          "colorway": [
           "#636efa",
           "#EF553B",
           "#00cc96",
           "#ab63fa",
           "#FFA15A",
           "#19d3f3",
           "#FF6692",
           "#B6E880",
           "#FF97FF",
           "#FECB52"
          ],
          "font": {
           "color": "#2a3f5f"
          },
          "geo": {
           "bgcolor": "white",
           "lakecolor": "white",
           "landcolor": "#E5ECF6",
           "showlakes": true,
           "showland": true,
           "subunitcolor": "white"
          },
          "hoverlabel": {
           "align": "left"
          },
          "hovermode": "closest",
          "mapbox": {
           "style": "light"
          },
          "paper_bgcolor": "white",
          "plot_bgcolor": "#E5ECF6",
          "polar": {
           "angularaxis": {
            "gridcolor": "white",
            "linecolor": "white",
            "ticks": ""
           },
           "bgcolor": "#E5ECF6",
           "radialaxis": {
            "gridcolor": "white",
            "linecolor": "white",
            "ticks": ""
           }
          },
          "scene": {
           "xaxis": {
            "backgroundcolor": "#E5ECF6",
            "gridcolor": "white",
            "gridwidth": 2,
            "linecolor": "white",
            "showbackground": true,
            "ticks": "",
            "zerolinecolor": "white"
           },
           "yaxis": {
            "backgroundcolor": "#E5ECF6",
            "gridcolor": "white",
            "gridwidth": 2,
            "linecolor": "white",
            "showbackground": true,
            "ticks": "",
            "zerolinecolor": "white"
           },
           "zaxis": {
            "backgroundcolor": "#E5ECF6",
            "gridcolor": "white",
            "gridwidth": 2,
            "linecolor": "white",
            "showbackground": true,
            "ticks": "",
            "zerolinecolor": "white"
           }
          },
          "shapedefaults": {
           "line": {
            "color": "#2a3f5f"
           }
          },
          "ternary": {
           "aaxis": {
            "gridcolor": "white",
            "linecolor": "white",
            "ticks": ""
           },
           "baxis": {
            "gridcolor": "white",
            "linecolor": "white",
            "ticks": ""
           },
           "bgcolor": "#E5ECF6",
           "caxis": {
            "gridcolor": "white",
            "linecolor": "white",
            "ticks": ""
           }
          },
          "title": {
           "x": 0.05
          },
          "xaxis": {
           "automargin": true,
           "gridcolor": "white",
           "linecolor": "white",
           "ticks": "",
           "title": {
            "standoff": 15
           },
           "zerolinecolor": "white",
           "zerolinewidth": 2
          },
          "yaxis": {
           "automargin": true,
           "gridcolor": "white",
           "linecolor": "white",
           "ticks": "",
           "title": {
            "standoff": 15
           },
           "zerolinecolor": "white",
           "zerolinewidth": 2
          }
         }
        },
        "title": {
         "text": "Zoonotic Events and Sequencing Effort Over Time"
        },
        "xaxis": {
         "anchor": "y",
         "domain": [
          0,
          0.94
         ],
         "title": {
          "text": "Year"
         }
        },
        "yaxis": {
         "anchor": "x",
         "domain": [
          0,
          1
         ],
         "title": {
          "text": "Number of Zoonotic Events"
         }
        },
        "yaxis2": {
         "anchor": "x",
         "overlaying": "y",
         "side": "right",
         "title": {
          "text": "Sequencing Effort"
         }
        }
       }
      }
     },
     "metadata": {},
     "output_type": "display_data"
    }
   ],
   "source": [
    "plot_combined_data(combined_df)"
   ]
  }
 ],
 "metadata": {
  "kernelspec": {
   "display_name": "base",
   "language": "python",
   "name": "python3"
  },
  "language_info": {
   "codemirror_mode": {
    "name": "ipython",
    "version": 3
   },
   "file_extension": ".py",
   "mimetype": "text/x-python",
   "name": "python",
   "nbconvert_exporter": "python",
   "pygments_lexer": "ipython3",
   "version": "3.7.6"
  },
  "orig_nbformat": 4,
  "vscode": {
   "interpreter": {
    "hash": "4955dedc2d00847a5d8ce35d0b08f51a09c63081b880cfd982b13da27f1123ca"
   }
  }
 },
 "nbformat": 4,
 "nbformat_minor": 2
}
